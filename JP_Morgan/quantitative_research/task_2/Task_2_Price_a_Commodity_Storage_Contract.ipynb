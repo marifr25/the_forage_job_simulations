{
 "cells": [
  {
   "cell_type": "markdown",
   "metadata": {},
   "source": [
    "# Task 2: Price a Commodity Storage Contract"
   ]
  },
  {
   "cell_type": "markdown",
   "metadata": {},
   "source": [
    "The second task, I need to create a prototype pricing model. I should write a function that is able to use the previously data. The input parameters that should be taken into account for pricing are:\n",
    "1. Injection dates. \n",
    "2. Withdrawal dates.\n",
    "3. The prices at which the commodity can be purchased/sold on those dates.\n",
    "4. The rate at which the gas can be injected/withdrawn.\n",
    "5. The maximum volume that can be stored.\n",
    "6. Storage costs.  "
   ]
  },
  {
   "cell_type": "markdown",
   "metadata": {},
   "source": [
    "## Import Pandas"
   ]
  },
  {
   "cell_type": "markdown",
   "metadata": {},
   "source": [
    "First of all, import the library first."
   ]
  },
  {
   "cell_type": "code",
   "execution_count": 1,
   "metadata": {},
   "outputs": [],
   "source": [
    "import pandas as pd"
   ]
  },
  {
   "cell_type": "markdown",
   "metadata": {},
   "source": [
    "## Load the Dataset"
   ]
  },
  {
   "cell_type": "markdown",
   "metadata": {},
   "source": [
    "And then, load the dataset."
   ]
  },
  {
   "cell_type": "code",
   "execution_count": 2,
   "metadata": {},
   "outputs": [
    {
     "data": {
      "text/html": [
       "<div>\n",
       "<style scoped>\n",
       "    .dataframe tbody tr th:only-of-type {\n",
       "        vertical-align: middle;\n",
       "    }\n",
       "\n",
       "    .dataframe tbody tr th {\n",
       "        vertical-align: top;\n",
       "    }\n",
       "\n",
       "    .dataframe thead th {\n",
       "        text-align: right;\n",
       "    }\n",
       "</style>\n",
       "<table border=\"1\" class=\"dataframe\">\n",
       "  <thead>\n",
       "    <tr style=\"text-align: right;\">\n",
       "      <th></th>\n",
       "      <th>Dates</th>\n",
       "      <th>Prices</th>\n",
       "    </tr>\n",
       "  </thead>\n",
       "  <tbody>\n",
       "    <tr>\n",
       "      <th>0</th>\n",
       "      <td>10/31/20</td>\n",
       "      <td>10.1</td>\n",
       "    </tr>\n",
       "    <tr>\n",
       "      <th>1</th>\n",
       "      <td>11/30/20</td>\n",
       "      <td>10.3</td>\n",
       "    </tr>\n",
       "    <tr>\n",
       "      <th>2</th>\n",
       "      <td>12/31/20</td>\n",
       "      <td>11.0</td>\n",
       "    </tr>\n",
       "    <tr>\n",
       "      <th>3</th>\n",
       "      <td>1/31/21</td>\n",
       "      <td>10.9</td>\n",
       "    </tr>\n",
       "    <tr>\n",
       "      <th>4</th>\n",
       "      <td>2/28/21</td>\n",
       "      <td>10.9</td>\n",
       "    </tr>\n",
       "  </tbody>\n",
       "</table>\n",
       "</div>"
      ],
      "text/plain": [
       "      Dates  Prices\n",
       "0  10/31/20    10.1\n",
       "1  11/30/20    10.3\n",
       "2  12/31/20    11.0\n",
       "3   1/31/21    10.9\n",
       "4   2/28/21    10.9"
      ]
     },
     "execution_count": 2,
     "metadata": {},
     "output_type": "execute_result"
    }
   ],
   "source": [
    "file_path = 'Nat_Gas.csv'\n",
    "nat_gas_data = pd.read_csv(file_path)\n",
    "nat_gas_data.head()"
   ]
  },
  {
   "cell_type": "markdown",
   "metadata": {},
   "source": [
    "## Price Gas Contract Function"
   ]
  },
  {
   "cell_type": "markdown",
   "metadata": {},
   "source": [
    "Then going into the main task, I will create a function that will accept those parameters."
   ]
  },
  {
   "cell_type": "code",
   "execution_count": 3,
   "metadata": {},
   "outputs": [],
   "source": [
    "def price_gas_contract(nat_gas_data, \n",
    "                       injection_dates, \n",
    "                       withdrawal_dates, \n",
    "                       injection_rate, \n",
    "                       withdrawal_rate, \n",
    "                       max_volume, \n",
    "                       storage_cost_per_month, \n",
    "                       injection_cost, \n",
    "                       withdrawal_cost, \n",
    "                       transport_cost):\n",
    "    \n",
    "    # Convert dates in the data to datetime\n",
    "    nat_gas_data['Dates'] = pd.to_datetime(nat_gas_data['Dates'])\n",
    "    \n",
    "    # Convert input dates to datetime\n",
    "    injection_dates = pd.to_datetime(injection_dates)\n",
    "    withdrawal_dates = pd.to_datetime(withdrawal_dates)\n",
    "    \n",
    "    # Initialize total costs and value\n",
    "    total_injection_cost = 0\n",
    "    total_withdrawal_cost = 0\n",
    "    total_storage_cost = 0\n",
    "    total_transport_cost = 0\n",
    "    total_value = 0\n",
    "    total_volume = 0\n",
    "    \n",
    "    for inject_date, withdraw_date in zip(injection_dates, withdrawal_dates):\n",
    "        # Check if the dates are within the range of the data\n",
    "        if inject_date not in nat_gas_data['Dates'].values or withdraw_date not in nat_gas_data['Dates'].values:\n",
    "            raise ValueError(\"Injection or withdrawal date not in the data range\")\n",
    "        \n",
    "        # Get prices on the injection and withdrawal dates\n",
    "        buy_price = nat_gas_data.loc[nat_gas_data['Dates'] == inject_date, 'Prices'].values[0]\n",
    "        sell_price = nat_gas_data.loc[nat_gas_data['Dates'] == withdraw_date, 'Prices'].values[0]\n",
    "        \n",
    "        # Calculate volume of gas injected and withdrawn\n",
    "        volume_injected = min(injection_rate, max_volume - total_volume)\n",
    "        total_volume += volume_injected\n",
    "        volume_withdrawn = min(withdrawal_rate, total_volume)\n",
    "        total_volume -= volume_withdrawn\n",
    "        \n",
    "        # Calculate costs\n",
    "        months_stored = (withdraw_date - inject_date).days // 30\n",
    "        storage_cost = months_stored * storage_cost_per_month\n",
    "        injection_cost_total = injection_cost\n",
    "        withdrawal_cost_total = withdrawal_cost\n",
    "        \n",
    "        # Update total costs and value\n",
    "        total_storage_cost += storage_cost\n",
    "        total_injection_cost += injection_cost_total\n",
    "        total_withdrawal_cost += withdrawal_cost_total\n",
    "        total_transport_cost += 2 * transport_cost  # transport cost for both injection and withdrawal\n",
    "        \n",
    "        # Calculate the value of the trade\n",
    "        trade_value = (sell_price - buy_price) * volume_withdrawn\n",
    "        total_value += trade_value\n",
    "    \n",
    "    # Calculate net value of the contract\n",
    "    net_value = total_value - (total_storage_cost + total_injection_cost + total_withdrawal_cost + total_transport_cost)\n",
    "    \n",
    "    return net_value"
   ]
  },
  {
   "cell_type": "markdown",
   "metadata": {},
   "source": [
    "The `price_gas_contract` function accepts parameters `nat_gas_data`, `injection_dates`, `withdrawal_dates`, `injection_rate`, `withdrawal_rate`, `max_volume`, `storage_cost_per_month`, `injection_cost`, `withdrawal_cost`, `transport_cost`. Then the function will perform a conversion on `nat_gas_data` in the dates column. `injection_dates` and `withdrawal_dates` will be converted to datetime as well. Then initialize it first on `total_injection_cost`, `total_withdrawal_cost`, `total_storage_cost`, `total_transport_cost`, `total_value`, `total_volume` as the value 0. Then here I use the looping function. The loop uses the zip function. Zip will iterate over 2 parameters and simultaneously streamline the iteration to be more pythonic. Then check if the dates are within the range of the data, otherwise raise the `ValueError`. Then get prices on the injection and withdrawal dates. Calculate volume of gas injected and withdrawn, calculate costs, update total costs and value, and then calculate the value of the trade. The for loop iteration is complete. Then calculate net value of the contract. Finally, return the `net_value`. "
   ]
  },
  {
   "cell_type": "markdown",
   "metadata": {},
   "source": [
    "## Sample Inputs"
   ]
  },
  {
   "cell_type": "markdown",
   "metadata": {},
   "source": [
    "Below is a sample input for this function."
   ]
  },
  {
   "cell_type": "code",
   "execution_count": 4,
   "metadata": {},
   "outputs": [],
   "source": [
    "# Example usage with sample inputs\n",
    "injection_dates = ['10/31/20', '11/30/20']\n",
    "withdrawal_dates = ['12/31/20', '01/31/21']\n",
    "injection_rate = 1000000  # 1 million MMBtu per injection\n",
    "withdrawal_rate = 1000000  # 1 million MMBtu per withdrawal\n",
    "max_volume = 2000000  # 2 million MMBtu max storage\n",
    "storage_cost_per_month = 100000  # $100K per month\n",
    "injection_cost = 10000  # $10K per 1 million MMBtu injection\n",
    "withdrawal_cost = 10000  # $10K per 1 million MMBtu withdrawal\n",
    "transport_cost = 50000  # $50K per transport"
   ]
  },
  {
   "cell_type": "markdown",
   "metadata": {},
   "source": [
    "## Call the Function"
   ]
  },
  {
   "cell_type": "markdown",
   "metadata": {},
   "source": [
    "Then call the function with the sample inputs."
   ]
  },
  {
   "cell_type": "code",
   "execution_count": 5,
   "metadata": {},
   "outputs": [
    {
     "name": "stderr",
     "output_type": "stream",
     "text": [
      "C:\\Users\\hp\\AppData\\Local\\Temp\\ipykernel_10080\\494700354.py:13: UserWarning: Could not infer format, so each element will be parsed individually, falling back to `dateutil`. To ensure parsing is consistent and as-expected, please specify a format.\n",
      "  nat_gas_data['Dates'] = pd.to_datetime(nat_gas_data['Dates'])\n",
      "C:\\Users\\hp\\AppData\\Local\\Temp\\ipykernel_10080\\494700354.py:16: UserWarning: Could not infer format, so each element will be parsed individually, falling back to `dateutil`. To ensure parsing is consistent and as-expected, please specify a format.\n",
      "  injection_dates = pd.to_datetime(injection_dates)\n",
      "C:\\Users\\hp\\AppData\\Local\\Temp\\ipykernel_10080\\494700354.py:17: UserWarning: Could not infer format, so each element will be parsed individually, falling back to `dateutil`. To ensure parsing is consistent and as-expected, please specify a format.\n",
      "  withdrawal_dates = pd.to_datetime(withdrawal_dates)\n"
     ]
    },
    {
     "data": {
      "text/plain": [
       "860000.0"
      ]
     },
     "execution_count": 5,
     "metadata": {},
     "output_type": "execute_result"
    }
   ],
   "source": [
    "# Call the function with the sample inputs\n",
    "net_contract_value = price_gas_contract(nat_gas_data, \n",
    "                                        injection_dates, \n",
    "                                        withdrawal_dates, \n",
    "                                        injection_rate, \n",
    "                                        withdrawal_rate, \n",
    "                                        max_volume, \n",
    "                                        storage_cost_per_month, \n",
    "                                        injection_cost, \n",
    "                                        withdrawal_cost, \n",
    "                                        transport_cost)\n",
    "net_contract_value"
   ]
  }
 ],
 "metadata": {
  "kernelspec": {
   "display_name": "Python 3",
   "language": "python",
   "name": "python3"
  },
  "language_info": {
   "codemirror_mode": {
    "name": "ipython",
    "version": 3
   },
   "file_extension": ".py",
   "mimetype": "text/x-python",
   "name": "python",
   "nbconvert_exporter": "python",
   "pygments_lexer": "ipython3",
   "version": "3.12.3"
  }
 },
 "nbformat": 4,
 "nbformat_minor": 2
}
