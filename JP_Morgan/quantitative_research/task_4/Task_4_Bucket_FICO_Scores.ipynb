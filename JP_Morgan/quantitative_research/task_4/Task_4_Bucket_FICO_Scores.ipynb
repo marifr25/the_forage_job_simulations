{
 "cells": [
  {
   "cell_type": "markdown",
   "metadata": {},
   "source": [
    "# Task 4: Bucket FICO scores"
   ]
  },
  {
   "cell_type": "markdown",
   "metadata": {},
   "source": [
    "In this last task, given a task that needs a general approach to generating the buckets. Given a set number of buckets corresponding to the number of input labels for the model to find out the boundaries that best summarize the data. I need to create a rating map that maps the FICO score of the borrowers to a rating where a lower rating signifies a better credit score."
   ]
  },
  {
   "cell_type": "markdown",
   "metadata": {},
   "source": [
    "## Load the Data"
   ]
  },
  {
   "cell_type": "markdown",
   "metadata": {},
   "source": [
    "First, load the dataset that will be needed."
   ]
  },
  {
   "cell_type": "code",
   "execution_count": 1,
   "metadata": {},
   "outputs": [],
   "source": [
    "import pandas as pd"
   ]
  },
  {
   "cell_type": "code",
   "execution_count": 4,
   "metadata": {},
   "outputs": [],
   "source": [
    "file_path = 'Task 3 and 4_Loan_Data.csv'\n",
    "data = pd.read_csv(file_path)"
   ]
  },
  {
   "cell_type": "code",
   "execution_count": 7,
   "metadata": {},
   "outputs": [
    {
     "data": {
      "text/html": [
       "<div>\n",
       "<style scoped>\n",
       "    .dataframe tbody tr th:only-of-type {\n",
       "        vertical-align: middle;\n",
       "    }\n",
       "\n",
       "    .dataframe tbody tr th {\n",
       "        vertical-align: top;\n",
       "    }\n",
       "\n",
       "    .dataframe thead th {\n",
       "        text-align: right;\n",
       "    }\n",
       "</style>\n",
       "<table border=\"1\" class=\"dataframe\">\n",
       "  <thead>\n",
       "    <tr style=\"text-align: right;\">\n",
       "      <th></th>\n",
       "      <th>customer_id</th>\n",
       "      <th>credit_lines_outstanding</th>\n",
       "      <th>loan_amt_outstanding</th>\n",
       "      <th>total_debt_outstanding</th>\n",
       "      <th>income</th>\n",
       "      <th>years_employed</th>\n",
       "      <th>fico_score</th>\n",
       "      <th>default</th>\n",
       "    </tr>\n",
       "  </thead>\n",
       "  <tbody>\n",
       "    <tr>\n",
       "      <th>0</th>\n",
       "      <td>8153374</td>\n",
       "      <td>0</td>\n",
       "      <td>5221.545193</td>\n",
       "      <td>3915.471226</td>\n",
       "      <td>78039.38546</td>\n",
       "      <td>5</td>\n",
       "      <td>605</td>\n",
       "      <td>0</td>\n",
       "    </tr>\n",
       "    <tr>\n",
       "      <th>1</th>\n",
       "      <td>7442532</td>\n",
       "      <td>5</td>\n",
       "      <td>1958.928726</td>\n",
       "      <td>8228.752520</td>\n",
       "      <td>26648.43525</td>\n",
       "      <td>2</td>\n",
       "      <td>572</td>\n",
       "      <td>1</td>\n",
       "    </tr>\n",
       "    <tr>\n",
       "      <th>2</th>\n",
       "      <td>2256073</td>\n",
       "      <td>0</td>\n",
       "      <td>3363.009259</td>\n",
       "      <td>2027.830850</td>\n",
       "      <td>65866.71246</td>\n",
       "      <td>4</td>\n",
       "      <td>602</td>\n",
       "      <td>0</td>\n",
       "    </tr>\n",
       "    <tr>\n",
       "      <th>3</th>\n",
       "      <td>4885975</td>\n",
       "      <td>0</td>\n",
       "      <td>4766.648001</td>\n",
       "      <td>2501.730397</td>\n",
       "      <td>74356.88347</td>\n",
       "      <td>5</td>\n",
       "      <td>612</td>\n",
       "      <td>0</td>\n",
       "    </tr>\n",
       "    <tr>\n",
       "      <th>4</th>\n",
       "      <td>4700614</td>\n",
       "      <td>1</td>\n",
       "      <td>1345.827718</td>\n",
       "      <td>1768.826187</td>\n",
       "      <td>23448.32631</td>\n",
       "      <td>6</td>\n",
       "      <td>631</td>\n",
       "      <td>0</td>\n",
       "    </tr>\n",
       "  </tbody>\n",
       "</table>\n",
       "</div>"
      ],
      "text/plain": [
       "   customer_id  credit_lines_outstanding  loan_amt_outstanding  \\\n",
       "0      8153374                         0           5221.545193   \n",
       "1      7442532                         5           1958.928726   \n",
       "2      2256073                         0           3363.009259   \n",
       "3      4885975                         0           4766.648001   \n",
       "4      4700614                         1           1345.827718   \n",
       "\n",
       "   total_debt_outstanding       income  years_employed  fico_score  default  \n",
       "0             3915.471226  78039.38546               5         605        0  \n",
       "1             8228.752520  26648.43525               2         572        1  \n",
       "2             2027.830850  65866.71246               4         602        0  \n",
       "3             2501.730397  74356.88347               5         612        0  \n",
       "4             1768.826187  23448.32631               6         631        0  "
      ]
     },
     "execution_count": 7,
     "metadata": {},
     "output_type": "execute_result"
    }
   ],
   "source": [
    "data.head()"
   ]
  },
  {
   "cell_type": "markdown",
   "metadata": {},
   "source": [
    "## Preprocessing Data"
   ]
  },
  {
   "cell_type": "markdown",
   "metadata": {},
   "source": [
    "In this stage, describe first to find out statistics on the data. "
   ]
  },
  {
   "cell_type": "code",
   "execution_count": 8,
   "metadata": {},
   "outputs": [
    {
     "data": {
      "text/html": [
       "<div>\n",
       "<style scoped>\n",
       "    .dataframe tbody tr th:only-of-type {\n",
       "        vertical-align: middle;\n",
       "    }\n",
       "\n",
       "    .dataframe tbody tr th {\n",
       "        vertical-align: top;\n",
       "    }\n",
       "\n",
       "    .dataframe thead th {\n",
       "        text-align: right;\n",
       "    }\n",
       "</style>\n",
       "<table border=\"1\" class=\"dataframe\">\n",
       "  <thead>\n",
       "    <tr style=\"text-align: right;\">\n",
       "      <th></th>\n",
       "      <th>customer_id</th>\n",
       "      <th>credit_lines_outstanding</th>\n",
       "      <th>loan_amt_outstanding</th>\n",
       "      <th>total_debt_outstanding</th>\n",
       "      <th>income</th>\n",
       "      <th>years_employed</th>\n",
       "      <th>fico_score</th>\n",
       "      <th>default</th>\n",
       "    </tr>\n",
       "  </thead>\n",
       "  <tbody>\n",
       "    <tr>\n",
       "      <th>count</th>\n",
       "      <td>1.000000e+04</td>\n",
       "      <td>10000.000000</td>\n",
       "      <td>10000.000000</td>\n",
       "      <td>10000.000000</td>\n",
       "      <td>10000.000000</td>\n",
       "      <td>10000.000000</td>\n",
       "      <td>10000.000000</td>\n",
       "      <td>10000.000000</td>\n",
       "    </tr>\n",
       "    <tr>\n",
       "      <th>mean</th>\n",
       "      <td>4.974577e+06</td>\n",
       "      <td>1.461200</td>\n",
       "      <td>4159.677034</td>\n",
       "      <td>8718.916797</td>\n",
       "      <td>70039.901401</td>\n",
       "      <td>4.552800</td>\n",
       "      <td>637.557700</td>\n",
       "      <td>0.185100</td>\n",
       "    </tr>\n",
       "    <tr>\n",
       "      <th>std</th>\n",
       "      <td>2.293890e+06</td>\n",
       "      <td>1.743846</td>\n",
       "      <td>1421.399078</td>\n",
       "      <td>6627.164762</td>\n",
       "      <td>20072.214143</td>\n",
       "      <td>1.566862</td>\n",
       "      <td>60.657906</td>\n",
       "      <td>0.388398</td>\n",
       "    </tr>\n",
       "    <tr>\n",
       "      <th>min</th>\n",
       "      <td>1.000324e+06</td>\n",
       "      <td>0.000000</td>\n",
       "      <td>46.783973</td>\n",
       "      <td>31.652732</td>\n",
       "      <td>1000.000000</td>\n",
       "      <td>0.000000</td>\n",
       "      <td>408.000000</td>\n",
       "      <td>0.000000</td>\n",
       "    </tr>\n",
       "    <tr>\n",
       "      <th>25%</th>\n",
       "      <td>2.977661e+06</td>\n",
       "      <td>0.000000</td>\n",
       "      <td>3154.235371</td>\n",
       "      <td>4199.836020</td>\n",
       "      <td>56539.867903</td>\n",
       "      <td>3.000000</td>\n",
       "      <td>597.000000</td>\n",
       "      <td>0.000000</td>\n",
       "    </tr>\n",
       "    <tr>\n",
       "      <th>50%</th>\n",
       "      <td>4.989502e+06</td>\n",
       "      <td>1.000000</td>\n",
       "      <td>4052.377228</td>\n",
       "      <td>6732.407217</td>\n",
       "      <td>70085.826330</td>\n",
       "      <td>5.000000</td>\n",
       "      <td>638.000000</td>\n",
       "      <td>0.000000</td>\n",
       "    </tr>\n",
       "    <tr>\n",
       "      <th>75%</th>\n",
       "      <td>6.967210e+06</td>\n",
       "      <td>2.000000</td>\n",
       "      <td>5052.898103</td>\n",
       "      <td>11272.263740</td>\n",
       "      <td>83429.166133</td>\n",
       "      <td>6.000000</td>\n",
       "      <td>679.000000</td>\n",
       "      <td>0.000000</td>\n",
       "    </tr>\n",
       "    <tr>\n",
       "      <th>max</th>\n",
       "      <td>8.999789e+06</td>\n",
       "      <td>5.000000</td>\n",
       "      <td>10750.677810</td>\n",
       "      <td>43688.784100</td>\n",
       "      <td>148412.180500</td>\n",
       "      <td>10.000000</td>\n",
       "      <td>850.000000</td>\n",
       "      <td>1.000000</td>\n",
       "    </tr>\n",
       "  </tbody>\n",
       "</table>\n",
       "</div>"
      ],
      "text/plain": [
       "        customer_id  credit_lines_outstanding  loan_amt_outstanding  \\\n",
       "count  1.000000e+04              10000.000000          10000.000000   \n",
       "mean   4.974577e+06                  1.461200           4159.677034   \n",
       "std    2.293890e+06                  1.743846           1421.399078   \n",
       "min    1.000324e+06                  0.000000             46.783973   \n",
       "25%    2.977661e+06                  0.000000           3154.235371   \n",
       "50%    4.989502e+06                  1.000000           4052.377228   \n",
       "75%    6.967210e+06                  2.000000           5052.898103   \n",
       "max    8.999789e+06                  5.000000          10750.677810   \n",
       "\n",
       "       total_debt_outstanding         income  years_employed    fico_score  \\\n",
       "count            10000.000000   10000.000000    10000.000000  10000.000000   \n",
       "mean              8718.916797   70039.901401        4.552800    637.557700   \n",
       "std               6627.164762   20072.214143        1.566862     60.657906   \n",
       "min                 31.652732    1000.000000        0.000000    408.000000   \n",
       "25%               4199.836020   56539.867903        3.000000    597.000000   \n",
       "50%               6732.407217   70085.826330        5.000000    638.000000   \n",
       "75%              11272.263740   83429.166133        6.000000    679.000000   \n",
       "max              43688.784100  148412.180500       10.000000    850.000000   \n",
       "\n",
       "            default  \n",
       "count  10000.000000  \n",
       "mean       0.185100  \n",
       "std        0.388398  \n",
       "min        0.000000  \n",
       "25%        0.000000  \n",
       "50%        0.000000  \n",
       "75%        0.000000  \n",
       "max        1.000000  "
      ]
     },
     "execution_count": 8,
     "metadata": {},
     "output_type": "execute_result"
    }
   ],
   "source": [
    "data.describe()"
   ]
  },
  {
   "cell_type": "markdown",
   "metadata": {},
   "source": [
    "Then also find out what the data info is like. "
   ]
  },
  {
   "cell_type": "code",
   "execution_count": 9,
   "metadata": {},
   "outputs": [
    {
     "name": "stdout",
     "output_type": "stream",
     "text": [
      "<class 'pandas.core.frame.DataFrame'>\n",
      "RangeIndex: 10000 entries, 0 to 9999\n",
      "Data columns (total 8 columns):\n",
      " #   Column                    Non-Null Count  Dtype  \n",
      "---  ------                    --------------  -----  \n",
      " 0   customer_id               10000 non-null  int64  \n",
      " 1   credit_lines_outstanding  10000 non-null  int64  \n",
      " 2   loan_amt_outstanding      10000 non-null  float64\n",
      " 3   total_debt_outstanding    10000 non-null  float64\n",
      " 4   income                    10000 non-null  float64\n",
      " 5   years_employed            10000 non-null  int64  \n",
      " 6   fico_score                10000 non-null  int64  \n",
      " 7   default                   10000 non-null  int64  \n",
      "dtypes: float64(3), int64(5)\n",
      "memory usage: 625.1 KB\n"
     ]
    }
   ],
   "source": [
    "data.info()"
   ]
  },
  {
   "cell_type": "markdown",
   "metadata": {},
   "source": [
    "## Plot the Data"
   ]
  },
  {
   "cell_type": "markdown",
   "metadata": {},
   "source": [
    "Plot the data to see what the data distribution is like."
   ]
  },
  {
   "cell_type": "code",
   "execution_count": 10,
   "metadata": {},
   "outputs": [],
   "source": [
    "import matplotlib.pyplot as plt"
   ]
  },
  {
   "cell_type": "code",
   "execution_count": 12,
   "metadata": {},
   "outputs": [
    {
     "data": {
      "image/png": "[encoded data removed]",
      "text/plain": [
       "<Figure size 640x480 with 1 Axes>"
      ]
     },
     "metadata": {},
     "output_type": "display_data"
    }
   ],
   "source": [
    "plt.hist(data['fico_score'], bins=50, edgecolor='k')\n",
    "plt.xlabel('FICO Score')\n",
    "plt.ylabel('Frequency')\n",
    "plt.title('Distribution of FICO Scores')\n",
    "plt.show()"
   ]
  },
  {
   "cell_type": "code",
   "execution_count": 14,
   "metadata": {},
   "outputs": [
    {
     "data": {
      "image/png": "[encoded data removed]",
      "text/plain": [
       "<Figure size 640x480 with 1 Axes>"
      ]
     },
     "metadata": {},
     "output_type": "display_data"
    }
   ],
   "source": [
    "plt.hist(data['default'], bins=2, edgecolor='k')\n",
    "plt.xlabel('Default Status')\n",
    "plt.xticks([0, 1])\n",
    "plt.ylabel('Frequency')\n",
    "plt.title('Distribution of Default Status')\n",
    "plt.show()"
   ]
  },
  {
   "cell_type": "markdown",
   "metadata": {},
   "source": [
    "## Clustering FICO Scores using KMeans"
   ]
  },
  {
   "cell_type": "markdown",
   "metadata": {},
   "source": [
    "The FICO scores are reshaped into a 2D array since KMeans expects input in this format."
   ]
  },
  {
   "cell_type": "code",
   "execution_count": 15,
   "metadata": {},
   "outputs": [],
   "source": [
    "from sklearn.cluster import KMeans\n",
    "import numpy as np"
   ]
  },
  {
   "cell_type": "code",
   "execution_count": 17,
   "metadata": {},
   "outputs": [],
   "source": [
    "fico_scores = data['fico_score'].values.reshape(-1, 1)"
   ]
  },
  {
   "cell_type": "markdown",
   "metadata": {},
   "source": [
    "The KMeans algorithm is applied to segment the FICO scores into 10 clusters. Each FICO score is assigned a cluster label (bucket)."
   ]
  },
  {
   "cell_type": "code",
   "execution_count": 18,
   "metadata": {},
   "outputs": [],
   "source": [
    "n_buckets = 10  # Number of desired buckets\n",
    "kmeans = KMeans(n_clusters=n_buckets, random_state=0).fit(fico_scores)\n",
    "data['Bucket'] = kmeans.labels_"
   ]
  },
  {
   "cell_type": "markdown",
   "metadata": {},
   "source": [
    "The cluster centers are sorted to define the boundaries of these buckets."
   ]
  },
  {
   "cell_type": "code",
   "execution_count": 19,
   "metadata": {},
   "outputs": [
    {
     "name": "stdout",
     "output_type": "stream",
     "text": [
      "Bucket boundaries: [494.33676976 544.34036939 579.54772727 609.7433414  636.49270286\n",
      " 661.75868726 686.93811075 713.34705882 742.68318966 786.00588235]\n"
     ]
    }
   ],
   "source": [
    "bucket_boundaries = np.sort(kmeans.cluster_centers_.flatten())\n",
    "print(\"Bucket boundaries:\", bucket_boundaries)"
   ]
  },
  {
   "cell_type": "markdown",
   "metadata": {},
   "source": [
    "## Optimizing Bucket Boundaries based on Default Likelihood"
   ]
  },
  {
   "cell_type": "markdown",
   "metadata": {},
   "source": [
    "The FICO scores are sorted, and the default statuses are extracted."
   ]
  },
  {
   "cell_type": "code",
   "execution_count": 20,
   "metadata": {},
   "outputs": [],
   "source": [
    "import math\n",
    "from scipy.optimize import minimize"
   ]
  },
  {
   "cell_type": "code",
   "execution_count": 22,
   "metadata": {},
   "outputs": [],
   "source": [
    "n_buckets = 10  # Number of desired buckets\n",
    "fico_scores = data['fico_score'].sort_values().values\n",
    "default_status = data['default'].values\n"
   ]
  },
  {
   "cell_type": "markdown",
   "metadata": {},
   "source": [
    "A function is defined to calculate the log-likelihood of default within each bucket. This function computes the probability of default in each bucket and sums the log-likelihood contributions across all buckets."
   ]
  },
  {
   "cell_type": "code",
   "execution_count": 23,
   "metadata": {},
   "outputs": [],
   "source": [
    "def log_likelihood(bucket_boundaries, scores, defaults):\n",
    "    n_buckets = len(bucket_boundaries) - 1\n",
    "    log_likelihood = 0\n",
    "    for i in range(n_buckets):\n",
    "        bucket_scores = scores[(scores >= bucket_boundaries[i]) & (scores < bucket_boundaries[i + 1])]\n",
    "        bucket_defaults = defaults[(scores >= bucket_boundaries[i]) & (scores < bucket_boundaries[i + 1])]\n",
    "        n_i = len(bucket_scores)\n",
    "        k_i = sum(bucket_defaults)\n",
    "        p_i = k_i / n_i if n_i > 0 else 0\n",
    "        if p_i > 0:\n",
    "            log_likelihood += k_i * math.log(p_i) + (n_i - k_i) * math.log(1 - p_i)\n",
    "    return log_likelihood"
   ]
  },
  {
   "cell_type": "markdown",
   "metadata": {},
   "source": [
    "The `log_likelihood` function is key to optimizing the boundaries. Here's a breakdown:\n",
    "- **Loop through Buckets:** For each bucket, defined by the boundaries `bucket_boundaries[i]` and `bucket_boundaries[i+1]`:\n",
    "    - **Select Scores and Defaults:** Scores and defaults that fall within the current bucket's range.\n",
    "    - **Calculate Probabilities:** `n_i` is the number of scores in the bucket, and `k_i` is the number of defaults. `p_i` is the probability of default in the bucket.\n",
    "    - **Log-Likelihood Calculation:** If `p_i` is greater than 0, the `log_likelihood` for the bucket is computed and added to the total `log_likelihood`."
   ]
  },
  {
   "cell_type": "markdown",
   "metadata": {},
   "source": [
    "Initial bucket boundaries are set as evenly spaced values between the minimum and maximum FICO scores. "
   ]
  },
  {
   "cell_type": "code",
   "execution_count": 24,
   "metadata": {},
   "outputs": [
    {
     "name": "stdout",
     "output_type": "stream",
     "text": [
      "Optimized bucket boundaries: [408.00000543 452.2        496.4        540.6        584.8\n",
      " 628.9999991  673.2        717.4        761.6        805.8\n",
      " 849.99999922]\n"
     ]
    }
   ],
   "source": [
    "initial_boundaries = np.linspace(fico_scores.min(), fico_scores.max(), n_buckets + 1)\n",
    "result = minimize(lambda b: -log_likelihood(b, fico_scores, default_status), initial_boundaries, method='L-BFGS-B')\n",
    "optimized_boundaries = result.x\n",
    "\n",
    "print(\"Optimized bucket boundaries:\", optimized_boundaries)"
   ]
  },
  {
   "cell_type": "markdown",
   "metadata": {},
   "source": [
    "The `minimize` function from `scipy.optimize` is used to find the bucket boundaries that maximize the log-likelihood (equivalently, minimize the negative log-likelihood)."
   ]
  },
  {
   "cell_type": "markdown",
   "metadata": {},
   "source": [
    "By optimizing the bucket boundaries to maximize this log-likelihood, we aim to find the boundaries that best separate the scores into buckets with different default probabilities."
   ]
  }
 ],
 "metadata": {
  "kernelspec": {
   "display_name": "Python 3",
   "language": "python",
   "name": "python3"
  },
  "language_info": {
   "codemirror_mode": {
    "name": "ipython",
    "version": 3
   },
   "file_extension": ".py",
   "mimetype": "text/x-python",
   "name": "python",
   "nbconvert_exporter": "python",
   "pygments_lexer": "ipython3",
   "version": "3.12.3"
  }
 },
 "nbformat": 4,
 "nbformat_minor": 2
}
